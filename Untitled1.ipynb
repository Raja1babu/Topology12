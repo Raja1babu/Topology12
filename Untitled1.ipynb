{
 "cells": [
  {
   "cell_type": "code",
   "execution_count": 1,
   "id": "3eb5fb89",
   "metadata": {},
   "outputs": [],
   "source": [
    "import pandas as pd"
   ]
  },
  {
   "cell_type": "code",
   "execution_count": 7,
   "id": "2156334d",
   "metadata": {},
   "outputs": [],
   "source": [
    "name = [\"raja\", \"pankaj\", \"sudhir\", \"rohit\",\"sudhanshu\", \"mohan\", \"sunny\", \"rohit\"]\n",
    "salary = [20, 30, 40, 50, 60, 70, 80, 90]"
   ]
  },
  {
   "cell_type": "code",
   "execution_count": 8,
   "id": "70a63919",
   "metadata": {},
   "outputs": [],
   "source": [
    "topo = {'name': name,  'salary': salary}"
   ]
  },
  {
   "cell_type": "code",
   "execution_count": 9,
   "id": "565ab026",
   "metadata": {},
   "outputs": [],
   "source": [
    "df = pd.DataFrame(topo)"
   ]
  },
  {
   "cell_type": "code",
   "execution_count": 11,
   "id": "0e32cde6",
   "metadata": {},
   "outputs": [],
   "source": [
    "df.to_csv('topo.csv')"
   ]
  },
  {
   "cell_type": "code",
   "execution_count": 12,
   "id": "d2dab67a",
   "metadata": {},
   "outputs": [
    {
     "data": {
      "text/html": [
       "<div>\n",
       "<style scoped>\n",
       "    .dataframe tbody tr th:only-of-type {\n",
       "        vertical-align: middle;\n",
       "    }\n",
       "\n",
       "    .dataframe tbody tr th {\n",
       "        vertical-align: top;\n",
       "    }\n",
       "\n",
       "    .dataframe thead th {\n",
       "        text-align: right;\n",
       "    }\n",
       "</style>\n",
       "<table border=\"1\" class=\"dataframe\">\n",
       "  <thead>\n",
       "    <tr style=\"text-align: right;\">\n",
       "      <th></th>\n",
       "      <th>name</th>\n",
       "      <th>salary</th>\n",
       "    </tr>\n",
       "  </thead>\n",
       "  <tbody>\n",
       "    <tr>\n",
       "      <th>0</th>\n",
       "      <td>raja</td>\n",
       "      <td>20</td>\n",
       "    </tr>\n",
       "    <tr>\n",
       "      <th>1</th>\n",
       "      <td>pankaj</td>\n",
       "      <td>30</td>\n",
       "    </tr>\n",
       "    <tr>\n",
       "      <th>2</th>\n",
       "      <td>sudhir</td>\n",
       "      <td>40</td>\n",
       "    </tr>\n",
       "    <tr>\n",
       "      <th>3</th>\n",
       "      <td>rohit</td>\n",
       "      <td>50</td>\n",
       "    </tr>\n",
       "    <tr>\n",
       "      <th>4</th>\n",
       "      <td>sudhanshu</td>\n",
       "      <td>60</td>\n",
       "    </tr>\n",
       "    <tr>\n",
       "      <th>5</th>\n",
       "      <td>mohan</td>\n",
       "      <td>70</td>\n",
       "    </tr>\n",
       "    <tr>\n",
       "      <th>6</th>\n",
       "      <td>sunny</td>\n",
       "      <td>80</td>\n",
       "    </tr>\n",
       "    <tr>\n",
       "      <th>7</th>\n",
       "      <td>rohit</td>\n",
       "      <td>90</td>\n",
       "    </tr>\n",
       "  </tbody>\n",
       "</table>\n",
       "</div>"
      ],
      "text/plain": [
       "        name  salary\n",
       "0       raja      20\n",
       "1     pankaj      30\n",
       "2     sudhir      40\n",
       "3      rohit      50\n",
       "4  sudhanshu      60\n",
       "5      mohan      70\n",
       "6      sunny      80\n",
       "7      rohit      90"
      ]
     },
     "execution_count": 12,
     "metadata": {},
     "output_type": "execute_result"
    }
   ],
   "source": [
    "df"
   ]
  },
  {
   "cell_type": "code",
   "execution_count": 21,
   "id": "702e8791",
   "metadata": {},
   "outputs": [],
   "source": [
    "df = pd.read_csv('topo.csv', index_col = 0)"
   ]
  },
  {
   "cell_type": "code",
   "execution_count": 22,
   "id": "2466bd05",
   "metadata": {},
   "outputs": [],
   "source": [
    "nodes = df.columns.to_list()"
   ]
  },
  {
   "cell_type": "code",
   "execution_count": 23,
   "id": "ea4887b1",
   "metadata": {},
   "outputs": [],
   "source": [
    "nodes = [node.strip() for node in nodes]"
   ]
  },
  {
   "cell_type": "code",
   "execution_count": 24,
   "id": "2e339d0b",
   "metadata": {},
   "outputs": [
    {
     "data": {
      "text/plain": [
       "['name', 'salary']"
      ]
     },
     "execution_count": 24,
     "metadata": {},
     "output_type": "execute_result"
    }
   ],
   "source": [
    "nodes"
   ]
  },
  {
   "cell_type": "code",
   "execution_count": 25,
   "id": "2d99c600",
   "metadata": {},
   "outputs": [
    {
     "ename": "IndentationError",
     "evalue": "expected an indented block (678189851.py, line 1)",
     "output_type": "error",
     "traceback": [
      "\u001b[1;36m  Cell \u001b[1;32mIn [25], line 1\u001b[1;36m\u001b[0m\n\u001b[1;33m    def get_edges(node: str, weights: list, all_nodes: list, minium_weight: int):\u001b[0m\n\u001b[1;37m                                                                                     ^\u001b[0m\n\u001b[1;31mIndentationError\u001b[0m\u001b[1;31m:\u001b[0m expected an indented block\n"
     ]
    }
   ],
   "source": [
    "def get_edges(node: str, weights: list, all_nodes: list, minium_weight: int):    "
   ]
  },
  {
   "cell_type": "code",
   "execution_count": null,
   "id": "4c1ce1e8",
   "metadata": {},
   "outputs": [],
   "source": []
  }
 ],
 "metadata": {
  "kernelspec": {
   "display_name": "Python 3 (ipykernel)",
   "language": "python",
   "name": "python3"
  },
  "language_info": {
   "codemirror_mode": {
    "name": "ipython",
    "version": 3
   },
   "file_extension": ".py",
   "mimetype": "text/x-python",
   "name": "python",
   "nbconvert_exporter": "python",
   "pygments_lexer": "ipython3",
   "version": "3.9.13"
  }
 },
 "nbformat": 4,
 "nbformat_minor": 5
}
